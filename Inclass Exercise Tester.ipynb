{
 "cells": [
  {
   "cell_type": "markdown",
   "id": "e58ce36b-83a3-45b0-b454-21e874106efa",
   "metadata": {},
   "source": [
    "# 405 Data Science Course\n",
    "\n",
    "## First In class practice ?"
   ]
  },
  {
   "cell_type": "markdown",
   "id": "3d11c442-dd90-45f9-aa54-1420a93154bf",
   "metadata": {},
   "source": [
    "---"
   ]
  },
  {
   "cell_type": "code",
   "execution_count": 7,
   "id": "af68b64c-7e55-4a98-ba9c-76cedaa21a3b",
   "metadata": {},
   "outputs": [
    {
     "data": {
      "text/plain": [
       "2"
      ]
     },
     "execution_count": 7,
     "metadata": {},
     "output_type": "execute_result"
    }
   ],
   "source": [
    "1+1\n"
   ]
  },
  {
   "cell_type": "code",
   "execution_count": 9,
   "id": "23bc51a1-facc-4174-9750-a5c5671760ce",
   "metadata": {},
   "outputs": [
    {
     "name": "stdout",
     "output_type": "stream",
     "text": [
      "hello\n"
     ]
    }
   ],
   "source": [
    "print('hello')\n"
   ]
  },
  {
   "cell_type": "code",
   "execution_count": 11,
   "id": "7b20b6de-182e-4afb-96c1-04043ad9874f",
   "metadata": {},
   "outputs": [
    {
     "name": "stdout",
     "output_type": "stream",
     "text": [
      "This is an in class exercise\n"
     ]
    }
   ],
   "source": [
    "print('This is an in class exercise')"
   ]
  },
  {
   "cell_type": "code",
   "execution_count": 13,
   "id": "2adcbed2-b3d5-44b1-b4ca-0ea60786872a",
   "metadata": {},
   "outputs": [
    {
     "ename": "SyntaxError",
     "evalue": "invalid syntax (845035576.py, line 1)",
     "output_type": "error",
     "traceback": [
      "\u001b[1;36m  Cell \u001b[1;32mIn[13], line 1\u001b[1;36m\u001b[0m\n\u001b[1;33m    This is an in class exercise\u001b[0m\n\u001b[1;37m                  ^\u001b[0m\n\u001b[1;31mSyntaxError\u001b[0m\u001b[1;31m:\u001b[0m invalid syntax\n"
     ]
    }
   ],
   "source": [
    "This is an in class exercise\n"
   ]
  },
  {
   "cell_type": "code",
   "execution_count": null,
   "id": "9281869a-c5ea-44a2-a6b6-c104ff2fb8dd",
   "metadata": {},
   "outputs": [],
   "source": []
  }
 ],
 "metadata": {
  "kernelspec": {
   "display_name": "Python 3 (ipykernel)",
   "language": "python",
   "name": "python3"
  },
  "language_info": {
   "codemirror_mode": {
    "name": "ipython",
    "version": 3
   },
   "file_extension": ".py",
   "mimetype": "text/x-python",
   "name": "python",
   "nbconvert_exporter": "python",
   "pygments_lexer": "ipython3",
   "version": "3.12.4"
  }
 },
 "nbformat": 4,
 "nbformat_minor": 5
}
